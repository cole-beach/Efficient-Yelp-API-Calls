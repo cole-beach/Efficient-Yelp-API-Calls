{
 "cells": [
  {
   "cell_type": "code",
   "execution_count": 1,
   "id": "fe4aa03a",
   "metadata": {},
   "outputs": [],
   "source": [
    "import numpy as np\n",
    "import pandas as pd\n",
    "import matplotlib.pyplot as plt\n",
    "import seaborn as sns\n",
    "\n",
    "import os, json, math, time\n",
    "from yelpapi import YelpAPI\n",
    "from tqdm.notebook import tqdm_notebook"
   ]
  },
  {
   "cell_type": "code",
   "execution_count": 2,
   "id": "6d515c7e",
   "metadata": {},
   "outputs": [],
   "source": [
    "with open(r'C:\\Users\\nbeac\\.secret\\yelp_api.json') as f:\n",
    "    login = json.load(f)\n",
    "yelp_api = YelpAPI(login['api-key'], timeout_s=5.0)"
   ]
  },
  {
   "cell_type": "code",
   "execution_count": 3,
   "id": "a4e39a95",
   "metadata": {},
   "outputs": [],
   "source": [
    "# Set the API call parameters \n",
    "LOCATION = 'Reseda, CA, 91335'\n",
    "TERM = 'Tacos'"
   ]
  },
  {
   "cell_type": "code",
   "execution_count": 4,
   "id": "f7f09630",
   "metadata": {},
   "outputs": [
    {
     "data": {
      "text/plain": [
       "'Data/results_in_progress_Tacos.json'"
      ]
     },
     "execution_count": 4,
     "metadata": {},
     "output_type": "execute_result"
    }
   ],
   "source": [
    "# Create our JSON_FILE\n",
    "JSON_FILE = f\"Data/results_in_progress_Tacos.json\"\n",
    "JSON_FILE"
   ]
  },
  {
   "cell_type": "code",
   "execution_count": 6,
   "id": "06197897",
   "metadata": {},
   "outputs": [
    {
     "name": "stdout",
     "output_type": "stream",
     "text": [
      "[i] Data/results_in_progress_Tacos.json already exists!\n",
      "- 0 previous results found.\n"
     ]
    }
   ],
   "source": [
    "# Check if JSON_FILE exists with for-loop\n",
    "file_exists = os.path.isfile(JSON_FILE)\n",
    "\n",
    "# if it does not exist:\n",
    "if file_exists == False:\n",
    "    \n",
    "    ## Create any needed folders\n",
    "    ## Get folder name only\n",
    "    folder = os.path.dirname(JSON_FILE)\n",
    "    \n",
    "    ## if JSON_FILE includes a folder:\n",
    "    if len(folder)>0:\n",
    "        os.makedirs(folder,exist_ok=True)\n",
    "    \n",
    "    ## Inform User and save empty list\n",
    "    print(f\"[i] {JSON_FILE} not found. Saving empty list to file.\")\n",
    "    \n",
    "    ## save the first page of results\n",
    "    with open(JSON_FILE, 'w') as f:\n",
    "        json.dump([],f)\n",
    "    \n",
    "    ## if it exists, inform user\n",
    "else:\n",
    "    print(f\"[i] {JSON_FILE} already exists!\")\n",
    "\n",
    "## Load previous results and use len of results for offset\n",
    "with open(JSON_FILE,'r') as f:\n",
    "    previous_results = json.load(f)\n",
    "    \n",
    "## set offset based on previous results\n",
    "n_results = len(previous_results)\n",
    "print(f'- {n_results} previous results found.')"
   ]
  },
  {
   "cell_type": "code",
   "execution_count": 8,
   "id": "6cbb301d",
   "metadata": {},
   "outputs": [
    {
     "data": {
      "text/plain": [
       "dict_keys(['businesses', 'total', 'region'])"
      ]
     },
     "execution_count": 8,
     "metadata": {},
     "output_type": "execute_result"
    }
   ],
   "source": [
    "results = yelp_api.search_query(location=LOCATION,\n",
    "                               term=TERM,\n",
    "                               offset=n_results)\n",
    "results.keys()"
   ]
  },
  {
   "cell_type": "code",
   "execution_count": 9,
   "id": "e9a45a85",
   "metadata": {},
   "outputs": [
    {
     "data": {
      "text/plain": [
       "296"
      ]
     },
     "execution_count": 9,
     "metadata": {},
     "output_type": "execute_result"
    }
   ],
   "source": [
    "total_results = results['total']\n",
    "total_results"
   ]
  },
  {
   "cell_type": "code",
   "execution_count": 10,
   "id": "78ad44d7",
   "metadata": {},
   "outputs": [
    {
     "data": {
      "text/plain": [
       "20"
      ]
     },
     "execution_count": 10,
     "metadata": {},
     "output_type": "execute_result"
    }
   ],
   "source": [
    "results_per_page = len(results['businesses'])\n",
    "results_per_page"
   ]
  },
  {
   "cell_type": "code",
   "execution_count": 11,
   "id": "25e91e63",
   "metadata": {},
   "outputs": [
    {
     "data": {
      "text/plain": [
       "15"
      ]
     },
     "execution_count": 11,
     "metadata": {},
     "output_type": "execute_result"
    }
   ],
   "source": [
    "n_pages = math.ceil((results['total']-n_results)/results_per_page)\n",
    "n_pages"
   ]
  },
  {
   "cell_type": "code",
   "execution_count": 12,
   "id": "66fa6ea0",
   "metadata": {},
   "outputs": [
    {
     "data": {
      "application/vnd.jupyter.widget-view+json": {
       "model_id": "93d56bd0010e476d894d1cc97c6af24f",
       "version_major": 2,
       "version_minor": 0
      },
      "text/plain": [
       "  0%|          | 0/15 [00:00<?, ?it/s]"
      ]
     },
     "metadata": {},
     "output_type": "display_data"
    }
   ],
   "source": [
    "for i in tqdm_notebook(range(n_pages)):\n",
    "    time.sleep(.2)"
   ]
  },
  {
   "cell_type": "code",
   "execution_count": 14,
   "id": "68d4cedc",
   "metadata": {},
   "outputs": [
    {
     "data": {
      "application/vnd.jupyter.widget-view+json": {
       "model_id": "5e996416decf4c53b134eb3eb6b495fc",
       "version_major": 2,
       "version_minor": 0
      },
      "text/plain": [
       "  0%|          | 0/15 [00:00<?, ?it/s]"
      ]
     },
     "metadata": {},
     "output_type": "display_data"
    }
   ],
   "source": [
    "for i in tqdm_notebook(range(1, n_pages+1)):\n",
    "    time.sleep(.2)\n",
    "    \n",
    "    with open(JSON_FILE,'r') as f:\n",
    "        previous_results = json.load(f)\n",
    "    \n",
    "    n_results = len(previous_results)\n",
    "    \n",
    "    results = yelp_api.search_query(location = LOCATION,\n",
    "                                   term = TERM,\n",
    "                                   offset = n_results)\n",
    "    \n",
    "    previous_results.extend(results['businesses'])\n",
    "    \n",
    "    with open(JSON_FILE,'w') as f:\n",
    "        json.dump(previous_results,f)"
   ]
  },
  {
   "cell_type": "code",
   "execution_count": 15,
   "id": "cc37a25b",
   "metadata": {},
   "outputs": [
    {
     "data": {
      "text/html": [
       "<div>\n",
       "<style scoped>\n",
       "    .dataframe tbody tr th:only-of-type {\n",
       "        vertical-align: middle;\n",
       "    }\n",
       "\n",
       "    .dataframe tbody tr th {\n",
       "        vertical-align: top;\n",
       "    }\n",
       "\n",
       "    .dataframe thead th {\n",
       "        text-align: right;\n",
       "    }\n",
       "</style>\n",
       "<table border=\"1\" class=\"dataframe\">\n",
       "  <thead>\n",
       "    <tr style=\"text-align: right;\">\n",
       "      <th></th>\n",
       "      <th>id</th>\n",
       "      <th>alias</th>\n",
       "      <th>name</th>\n",
       "      <th>image_url</th>\n",
       "      <th>is_closed</th>\n",
       "      <th>url</th>\n",
       "      <th>review_count</th>\n",
       "      <th>categories</th>\n",
       "      <th>rating</th>\n",
       "      <th>coordinates</th>\n",
       "      <th>transactions</th>\n",
       "      <th>location</th>\n",
       "      <th>phone</th>\n",
       "      <th>display_phone</th>\n",
       "      <th>distance</th>\n",
       "      <th>price</th>\n",
       "    </tr>\n",
       "  </thead>\n",
       "  <tbody>\n",
       "    <tr>\n",
       "      <th>0</th>\n",
       "      <td>pudwsHTaasbvqrB00UYA_w</td>\n",
       "      <td>el-tijuanense-los-angeles-2</td>\n",
       "      <td>El TIjuanense</td>\n",
       "      <td>https://s3-media1.fl.yelpcdn.com/bphoto/GTg8q6...</td>\n",
       "      <td>False</td>\n",
       "      <td>https://www.yelp.com/biz/el-tijuanense-los-ang...</td>\n",
       "      <td>130</td>\n",
       "      <td>[{'alias': 'tacos', 'title': 'Tacos'}]</td>\n",
       "      <td>4.0</td>\n",
       "      <td>{'latitude': 34.23172, 'longitude': -118.5621}</td>\n",
       "      <td>[delivery, pickup]</td>\n",
       "      <td>{'address1': '8870 Corbin Ave', 'address2': No...</td>\n",
       "      <td>+18186268186</td>\n",
       "      <td>(818) 626-8186</td>\n",
       "      <td>3477.459232</td>\n",
       "      <td>NaN</td>\n",
       "    </tr>\n",
       "    <tr>\n",
       "      <th>1</th>\n",
       "      <td>n0ImmQ9RjWulUYtvGeyzaw</td>\n",
       "      <td>joeys-tacos-reseda</td>\n",
       "      <td>Joey's Tacos</td>\n",
       "      <td>https://s3-media3.fl.yelpcdn.com/bphoto/bCTZPD...</td>\n",
       "      <td>False</td>\n",
       "      <td>https://www.yelp.com/biz/joeys-tacos-reseda?ad...</td>\n",
       "      <td>167</td>\n",
       "      <td>[{'alias': 'mexican', 'title': 'Mexican'}]</td>\n",
       "      <td>4.5</td>\n",
       "      <td>{'latitude': 34.2017811919696, 'longitude': -1...</td>\n",
       "      <td>[delivery]</td>\n",
       "      <td>{'address1': '7215 Reseda Blvd', 'address2': '...</td>\n",
       "      <td>+18185785220</td>\n",
       "      <td>(818) 578-5220</td>\n",
       "      <td>777.520188</td>\n",
       "      <td>$</td>\n",
       "    </tr>\n",
       "    <tr>\n",
       "      <th>2</th>\n",
       "      <td>bb7DrutC1qvifYd3a-ykdQ</td>\n",
       "      <td>tacos-al-gusto-reseda-4</td>\n",
       "      <td>Tacos al Gusto</td>\n",
       "      <td>https://s3-media2.fl.yelpcdn.com/bphoto/McXaZM...</td>\n",
       "      <td>False</td>\n",
       "      <td>https://www.yelp.com/biz/tacos-al-gusto-reseda...</td>\n",
       "      <td>184</td>\n",
       "      <td>[{'alias': 'catering', 'title': 'Caterers'}, {...</td>\n",
       "      <td>5.0</td>\n",
       "      <td>{'latitude': 34.20367396652554, 'longitude': -...</td>\n",
       "      <td>[]</td>\n",
       "      <td>{'address1': None, 'address2': None, 'address3...</td>\n",
       "      <td>+18184386690</td>\n",
       "      <td>(818) 438-6690</td>\n",
       "      <td>3.749069</td>\n",
       "      <td>$$</td>\n",
       "    </tr>\n",
       "    <tr>\n",
       "      <th>3</th>\n",
       "      <td>uLK-xcfGGKKCrkOJoBAc9w</td>\n",
       "      <td>el-tacote-los-angeles-3</td>\n",
       "      <td>El Tacote</td>\n",
       "      <td>https://s3-media1.fl.yelpcdn.com/bphoto/PKadPd...</td>\n",
       "      <td>False</td>\n",
       "      <td>https://www.yelp.com/biz/el-tacote-los-angeles...</td>\n",
       "      <td>81</td>\n",
       "      <td>[{'alias': 'tacos', 'title': 'Tacos'}, {'alias...</td>\n",
       "      <td>4.5</td>\n",
       "      <td>{'latitude': 34.236773, 'longitude': -118.53659}</td>\n",
       "      <td>[delivery, pickup]</td>\n",
       "      <td>{'address1': '9167 Reseda Blvd', 'address2': N...</td>\n",
       "      <td>+18189932421</td>\n",
       "      <td>(818) 993-2421</td>\n",
       "      <td>3758.787506</td>\n",
       "      <td>$</td>\n",
       "    </tr>\n",
       "    <tr>\n",
       "      <th>4</th>\n",
       "      <td>z0pGYc_VkgJuw9uZrGvMhQ</td>\n",
       "      <td>el-tijuanense-los-angeles</td>\n",
       "      <td>El Tijuanense</td>\n",
       "      <td>https://s3-media2.fl.yelpcdn.com/bphoto/IRL7Oz...</td>\n",
       "      <td>False</td>\n",
       "      <td>https://www.yelp.com/biz/el-tijuanense-los-ang...</td>\n",
       "      <td>115</td>\n",
       "      <td>[{'alias': 'tacos', 'title': 'Tacos'}, {'alias...</td>\n",
       "      <td>4.5</td>\n",
       "      <td>{'latitude': 34.200404, 'longitude': -118.508698}</td>\n",
       "      <td>[delivery, pickup]</td>\n",
       "      <td>{'address1': '7140 Louise Ave', 'address2': No...</td>\n",
       "      <td>+18183212838</td>\n",
       "      <td>(818) 321-2838</td>\n",
       "      <td>3329.979013</td>\n",
       "      <td>$$</td>\n",
       "    </tr>\n",
       "  </tbody>\n",
       "</table>\n",
       "</div>"
      ],
      "text/plain": [
       "                       id                        alias            name  \\\n",
       "0  pudwsHTaasbvqrB00UYA_w  el-tijuanense-los-angeles-2   El TIjuanense   \n",
       "1  n0ImmQ9RjWulUYtvGeyzaw           joeys-tacos-reseda    Joey's Tacos   \n",
       "2  bb7DrutC1qvifYd3a-ykdQ      tacos-al-gusto-reseda-4  Tacos al Gusto   \n",
       "3  uLK-xcfGGKKCrkOJoBAc9w      el-tacote-los-angeles-3      El Tacote    \n",
       "4  z0pGYc_VkgJuw9uZrGvMhQ    el-tijuanense-los-angeles   El Tijuanense   \n",
       "\n",
       "                                           image_url  is_closed  \\\n",
       "0  https://s3-media1.fl.yelpcdn.com/bphoto/GTg8q6...      False   \n",
       "1  https://s3-media3.fl.yelpcdn.com/bphoto/bCTZPD...      False   \n",
       "2  https://s3-media2.fl.yelpcdn.com/bphoto/McXaZM...      False   \n",
       "3  https://s3-media1.fl.yelpcdn.com/bphoto/PKadPd...      False   \n",
       "4  https://s3-media2.fl.yelpcdn.com/bphoto/IRL7Oz...      False   \n",
       "\n",
       "                                                 url  review_count  \\\n",
       "0  https://www.yelp.com/biz/el-tijuanense-los-ang...           130   \n",
       "1  https://www.yelp.com/biz/joeys-tacos-reseda?ad...           167   \n",
       "2  https://www.yelp.com/biz/tacos-al-gusto-reseda...           184   \n",
       "3  https://www.yelp.com/biz/el-tacote-los-angeles...            81   \n",
       "4  https://www.yelp.com/biz/el-tijuanense-los-ang...           115   \n",
       "\n",
       "                                          categories  rating  \\\n",
       "0             [{'alias': 'tacos', 'title': 'Tacos'}]     4.0   \n",
       "1         [{'alias': 'mexican', 'title': 'Mexican'}]     4.5   \n",
       "2  [{'alias': 'catering', 'title': 'Caterers'}, {...     5.0   \n",
       "3  [{'alias': 'tacos', 'title': 'Tacos'}, {'alias...     4.5   \n",
       "4  [{'alias': 'tacos', 'title': 'Tacos'}, {'alias...     4.5   \n",
       "\n",
       "                                         coordinates        transactions  \\\n",
       "0     {'latitude': 34.23172, 'longitude': -118.5621}  [delivery, pickup]   \n",
       "1  {'latitude': 34.2017811919696, 'longitude': -1...          [delivery]   \n",
       "2  {'latitude': 34.20367396652554, 'longitude': -...                  []   \n",
       "3   {'latitude': 34.236773, 'longitude': -118.53659}  [delivery, pickup]   \n",
       "4  {'latitude': 34.200404, 'longitude': -118.508698}  [delivery, pickup]   \n",
       "\n",
       "                                            location         phone  \\\n",
       "0  {'address1': '8870 Corbin Ave', 'address2': No...  +18186268186   \n",
       "1  {'address1': '7215 Reseda Blvd', 'address2': '...  +18185785220   \n",
       "2  {'address1': None, 'address2': None, 'address3...  +18184386690   \n",
       "3  {'address1': '9167 Reseda Blvd', 'address2': N...  +18189932421   \n",
       "4  {'address1': '7140 Louise Ave', 'address2': No...  +18183212838   \n",
       "\n",
       "    display_phone     distance price  \n",
       "0  (818) 626-8186  3477.459232   NaN  \n",
       "1  (818) 578-5220   777.520188     $  \n",
       "2  (818) 438-6690     3.749069    $$  \n",
       "3  (818) 993-2421  3758.787506     $  \n",
       "4  (818) 321-2838  3329.979013    $$  "
      ]
     },
     "metadata": {},
     "output_type": "display_data"
    },
    {
     "data": {
      "text/html": [
       "<div>\n",
       "<style scoped>\n",
       "    .dataframe tbody tr th:only-of-type {\n",
       "        vertical-align: middle;\n",
       "    }\n",
       "\n",
       "    .dataframe tbody tr th {\n",
       "        vertical-align: top;\n",
       "    }\n",
       "\n",
       "    .dataframe thead th {\n",
       "        text-align: right;\n",
       "    }\n",
       "</style>\n",
       "<table border=\"1\" class=\"dataframe\">\n",
       "  <thead>\n",
       "    <tr style=\"text-align: right;\">\n",
       "      <th></th>\n",
       "      <th>id</th>\n",
       "      <th>alias</th>\n",
       "      <th>name</th>\n",
       "      <th>image_url</th>\n",
       "      <th>is_closed</th>\n",
       "      <th>url</th>\n",
       "      <th>review_count</th>\n",
       "      <th>categories</th>\n",
       "      <th>rating</th>\n",
       "      <th>coordinates</th>\n",
       "      <th>transactions</th>\n",
       "      <th>location</th>\n",
       "      <th>phone</th>\n",
       "      <th>display_phone</th>\n",
       "      <th>distance</th>\n",
       "      <th>price</th>\n",
       "    </tr>\n",
       "  </thead>\n",
       "  <tbody>\n",
       "    <tr>\n",
       "      <th>291</th>\n",
       "      <td>8SCbD-v3IpEXZMg92wfAhQ</td>\n",
       "      <td>burger-king-northridge-4</td>\n",
       "      <td>Burger King</td>\n",
       "      <td>https://s3-media3.fl.yelpcdn.com/bphoto/tAJsr_...</td>\n",
       "      <td>False</td>\n",
       "      <td>https://www.yelp.com/biz/burger-king-northridg...</td>\n",
       "      <td>61</td>\n",
       "      <td>[{'alias': 'hotdogs', 'title': 'Fast Food'}, {...</td>\n",
       "      <td>2.0</td>\n",
       "      <td>{'latitude': 34.23506701375673, 'longitude': -...</td>\n",
       "      <td>[delivery]</td>\n",
       "      <td>{'address1': '19640 Nordhoff St', 'address2': ...</td>\n",
       "      <td>+18183418466</td>\n",
       "      <td>(818) 341-8466</td>\n",
       "      <td>3808.666115</td>\n",
       "      <td>$</td>\n",
       "    </tr>\n",
       "    <tr>\n",
       "      <th>292</th>\n",
       "      <td>veBOS6PAc557HCVmyeH9fw</td>\n",
       "      <td>pickwick-pub-woodland-hills</td>\n",
       "      <td>Pickwick Pub</td>\n",
       "      <td>https://s3-media3.fl.yelpcdn.com/bphoto/BzCeC6...</td>\n",
       "      <td>False</td>\n",
       "      <td>https://www.yelp.com/biz/pickwick-pub-woodland...</td>\n",
       "      <td>315</td>\n",
       "      <td>[{'alias': 'pubs', 'title': 'Pubs'}, {'alias':...</td>\n",
       "      <td>4.0</td>\n",
       "      <td>{'latitude': 34.16652099548, 'longitude': -118...</td>\n",
       "      <td>[pickup, delivery]</td>\n",
       "      <td>{'address1': '21010 Ventura Blvd', 'address2':...</td>\n",
       "      <td>+18183409673</td>\n",
       "      <td>(818) 340-9673</td>\n",
       "      <td>5955.819857</td>\n",
       "      <td>$$</td>\n",
       "    </tr>\n",
       "    <tr>\n",
       "      <th>293</th>\n",
       "      <td>QE4ttw5U8rVH77x3-PDNBA</td>\n",
       "      <td>wienerschnitzel-canoga-park</td>\n",
       "      <td>Wienerschnitzel</td>\n",
       "      <td>https://s3-media2.fl.yelpcdn.com/bphoto/2jVaax...</td>\n",
       "      <td>False</td>\n",
       "      <td>https://www.yelp.com/biz/wienerschnitzel-canog...</td>\n",
       "      <td>57</td>\n",
       "      <td>[{'alias': 'hotdogs', 'title': 'Fast Food'}, {...</td>\n",
       "      <td>3.0</td>\n",
       "      <td>{'latitude': 34.2013405634972, 'longitude': -1...</td>\n",
       "      <td>[pickup, delivery]</td>\n",
       "      <td>{'address1': '20925 Sherman Way', 'address2': ...</td>\n",
       "      <td>+18185872978</td>\n",
       "      <td>(818) 587-2978</td>\n",
       "      <td>4121.086124</td>\n",
       "      <td>$</td>\n",
       "    </tr>\n",
       "    <tr>\n",
       "      <th>294</th>\n",
       "      <td>S1K4Ru1R6IzWxbdsjsHYyA</td>\n",
       "      <td>california-pizza-kitchen-tarzana-2</td>\n",
       "      <td>California Pizza Kitchen</td>\n",
       "      <td>https://s3-media2.fl.yelpcdn.com/bphoto/uMc37Q...</td>\n",
       "      <td>False</td>\n",
       "      <td>https://www.yelp.com/biz/california-pizza-kitc...</td>\n",
       "      <td>452</td>\n",
       "      <td>[{'alias': 'pizza', 'title': 'Pizza'}, {'alias...</td>\n",
       "      <td>3.0</td>\n",
       "      <td>{'latitude': 34.171389, 'longitude': -118.543352}</td>\n",
       "      <td>[delivery]</td>\n",
       "      <td>{'address1': '18800 Ventura Blvd', 'address2':...</td>\n",
       "      <td>+18183459925</td>\n",
       "      <td>(818) 345-9925</td>\n",
       "      <td>3595.823626</td>\n",
       "      <td>$$</td>\n",
       "    </tr>\n",
       "    <tr>\n",
       "      <th>295</th>\n",
       "      <td>JYS8vmR1sLZcZclsiYG-ig</td>\n",
       "      <td>california-pizza-kitchen-northridge-3</td>\n",
       "      <td>California Pizza Kitchen</td>\n",
       "      <td>https://s3-media2.fl.yelpcdn.com/bphoto/NGqJ9t...</td>\n",
       "      <td>False</td>\n",
       "      <td>https://www.yelp.com/biz/california-pizza-kitc...</td>\n",
       "      <td>657</td>\n",
       "      <td>[{'alias': 'pizza', 'title': 'Pizza'}, {'alias...</td>\n",
       "      <td>3.0</td>\n",
       "      <td>{'latitude': 34.2402165214109, 'longitude': -1...</td>\n",
       "      <td>[delivery]</td>\n",
       "      <td>{'address1': '9301 Tampa Ave', 'address2': 'Un...</td>\n",
       "      <td>+18187015035</td>\n",
       "      <td>(818) 701-5035</td>\n",
       "      <td>4175.648005</td>\n",
       "      <td>$$</td>\n",
       "    </tr>\n",
       "  </tbody>\n",
       "</table>\n",
       "</div>"
      ],
      "text/plain": [
       "                         id                                  alias  \\\n",
       "291  8SCbD-v3IpEXZMg92wfAhQ               burger-king-northridge-4   \n",
       "292  veBOS6PAc557HCVmyeH9fw            pickwick-pub-woodland-hills   \n",
       "293  QE4ttw5U8rVH77x3-PDNBA            wienerschnitzel-canoga-park   \n",
       "294  S1K4Ru1R6IzWxbdsjsHYyA     california-pizza-kitchen-tarzana-2   \n",
       "295  JYS8vmR1sLZcZclsiYG-ig  california-pizza-kitchen-northridge-3   \n",
       "\n",
       "                         name  \\\n",
       "291               Burger King   \n",
       "292              Pickwick Pub   \n",
       "293           Wienerschnitzel   \n",
       "294  California Pizza Kitchen   \n",
       "295  California Pizza Kitchen   \n",
       "\n",
       "                                             image_url  is_closed  \\\n",
       "291  https://s3-media3.fl.yelpcdn.com/bphoto/tAJsr_...      False   \n",
       "292  https://s3-media3.fl.yelpcdn.com/bphoto/BzCeC6...      False   \n",
       "293  https://s3-media2.fl.yelpcdn.com/bphoto/2jVaax...      False   \n",
       "294  https://s3-media2.fl.yelpcdn.com/bphoto/uMc37Q...      False   \n",
       "295  https://s3-media2.fl.yelpcdn.com/bphoto/NGqJ9t...      False   \n",
       "\n",
       "                                                   url  review_count  \\\n",
       "291  https://www.yelp.com/biz/burger-king-northridg...            61   \n",
       "292  https://www.yelp.com/biz/pickwick-pub-woodland...           315   \n",
       "293  https://www.yelp.com/biz/wienerschnitzel-canog...            57   \n",
       "294  https://www.yelp.com/biz/california-pizza-kitc...           452   \n",
       "295  https://www.yelp.com/biz/california-pizza-kitc...           657   \n",
       "\n",
       "                                            categories  rating  \\\n",
       "291  [{'alias': 'hotdogs', 'title': 'Fast Food'}, {...     2.0   \n",
       "292  [{'alias': 'pubs', 'title': 'Pubs'}, {'alias':...     4.0   \n",
       "293  [{'alias': 'hotdogs', 'title': 'Fast Food'}, {...     3.0   \n",
       "294  [{'alias': 'pizza', 'title': 'Pizza'}, {'alias...     3.0   \n",
       "295  [{'alias': 'pizza', 'title': 'Pizza'}, {'alias...     3.0   \n",
       "\n",
       "                                           coordinates        transactions  \\\n",
       "291  {'latitude': 34.23506701375673, 'longitude': -...          [delivery]   \n",
       "292  {'latitude': 34.16652099548, 'longitude': -118...  [pickup, delivery]   \n",
       "293  {'latitude': 34.2013405634972, 'longitude': -1...  [pickup, delivery]   \n",
       "294  {'latitude': 34.171389, 'longitude': -118.543352}          [delivery]   \n",
       "295  {'latitude': 34.2402165214109, 'longitude': -1...          [delivery]   \n",
       "\n",
       "                                              location         phone  \\\n",
       "291  {'address1': '19640 Nordhoff St', 'address2': ...  +18183418466   \n",
       "292  {'address1': '21010 Ventura Blvd', 'address2':...  +18183409673   \n",
       "293  {'address1': '20925 Sherman Way', 'address2': ...  +18185872978   \n",
       "294  {'address1': '18800 Ventura Blvd', 'address2':...  +18183459925   \n",
       "295  {'address1': '9301 Tampa Ave', 'address2': 'Un...  +18187015035   \n",
       "\n",
       "      display_phone     distance price  \n",
       "291  (818) 341-8466  3808.666115     $  \n",
       "292  (818) 340-9673  5955.819857    $$  \n",
       "293  (818) 587-2978  4121.086124     $  \n",
       "294  (818) 345-9925  3595.823626    $$  \n",
       "295  (818) 701-5035  4175.648005    $$  "
      ]
     },
     "metadata": {},
     "output_type": "display_data"
    }
   ],
   "source": [
    "final_df = pd.read_json(JSON_FILE)\n",
    "display(final_df.head(), final_df.tail())"
   ]
  },
  {
   "cell_type": "code",
   "execution_count": 16,
   "id": "2bf9281d",
   "metadata": {},
   "outputs": [
    {
     "data": {
      "text/plain": [
       "0"
      ]
     },
     "execution_count": 16,
     "metadata": {},
     "output_type": "execute_result"
    }
   ],
   "source": [
    "# check for duplicate IDs\n",
    "final_df.duplicated(subset='id').sum()"
   ]
  },
  {
   "cell_type": "code",
   "execution_count": 17,
   "id": "fe62a74f",
   "metadata": {},
   "outputs": [],
   "source": [
    "# save the final results to a compressed csv\n",
    "final_df.to_csv('Data/final_results_crab_cakes.csv.gz', compression='gzip', index=False)"
   ]
  }
 ],
 "metadata": {
  "kernelspec": {
   "display_name": "Python 3 (ipykernel)",
   "language": "python",
   "name": "python3"
  },
  "language_info": {
   "codemirror_mode": {
    "name": "ipython",
    "version": 3
   },
   "file_extension": ".py",
   "mimetype": "text/x-python",
   "name": "python",
   "nbconvert_exporter": "python",
   "pygments_lexer": "ipython3",
   "version": "3.8.13"
  },
  "toc": {
   "base_numbering": 1,
   "nav_menu": {},
   "number_sections": false,
   "sideBar": true,
   "skip_h1_title": false,
   "title_cell": "Table of Contents",
   "title_sidebar": "Contents",
   "toc_cell": false,
   "toc_position": {},
   "toc_section_display": true,
   "toc_window_display": false
  }
 },
 "nbformat": 4,
 "nbformat_minor": 5
}
